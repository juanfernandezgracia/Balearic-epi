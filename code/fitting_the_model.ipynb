{
 "cells": [
  {
   "cell_type": "markdown",
   "metadata": {},
   "source": [
    "## Procedure for fitting the model to IB data\n",
    "\n",
    "For this procedure we simulate the model for many combinations of the parameters and find the one that best matches the observed data. \n",
    "\n",
    "### Epidemiological data\n",
    "\n",
    "Time series available are\n",
    "\n",
    "* Deaths (official data)\n",
    "* Deaths (press data)\n",
    "* UCI patients\n",
    "* Recovered patients\n",
    "* Infected patients\n",
    "* Hospitalized patients\n",
    "\n",
    "### Results of the model\n",
    "\n",
    "Time series from the model\n",
    "\n",
    "* Infected\n",
    "* Recovered\n",
    "\n",
    "### Fitting model to data\n",
    "\n",
    "In order to fit the model to the data we proceed in the following way for each combination of parameters:\n",
    "\n",
    "1. Fix a proportion of recovered patients that actually die. ($\\mu_D$)\n",
    "2. Shift rescaled curve of recovered patients by tau from the model to best fit the curve of deaths from the data. The best fit is assessed by a Chi squared function.\n",
    "3. With that tau move also the curve of infected from the model and rescale it to best match the curve of UCI patients. Best value of this variable also given by Chi squared. ($\\mu_{UCI}$)\n",
    "4. Assign to this set of parameters the Chi squared that is the sum of the ones in 2. and 3. and save it together with the parameter values, the proportion of deaths and the obtained parameters tau and proportion of infected in UCI.\n",
    "\n",
    "From all the Chi squared values choose the one that is minimum."
   ]
  },
  {
   "cell_type": "code",
   "execution_count": null,
   "metadata": {},
   "outputs": [],
   "source": [
    "import numpy as np\n",
    "import pandas as pd"
   ]
  }
 ],
 "metadata": {
  "kernelspec": {
   "display_name": "Python 3",
   "language": "python",
   "name": "python3"
  },
  "language_info": {
   "codemirror_mode": {
    "name": "ipython",
    "version": 3
   },
   "file_extension": ".py",
   "mimetype": "text/x-python",
   "name": "python",
   "nbconvert_exporter": "python",
   "pygments_lexer": "ipython3",
   "version": "3.7.2"
  }
 },
 "nbformat": 4,
 "nbformat_minor": 2
}
