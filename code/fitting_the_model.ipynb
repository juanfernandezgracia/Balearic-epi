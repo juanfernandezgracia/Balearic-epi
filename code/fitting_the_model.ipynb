{
 "cells": [
  {
   "cell_type": "markdown",
   "metadata": {},
   "source": [
    "# Procedure for fitting the model to IB data\n",
    "\n",
    "For this procedure we simulate the model for many combinations of the parameters and find the one that best matches the observed data. \n",
    "\n",
    "## Epidemiological data\n",
    "\n",
    "Time series available are\n",
    "\n",
    "* Deaths (official data)\n",
    "* Deaths (press data)\n",
    "* UCI patients\n",
    "* Recovered patients\n",
    "* Infected patients\n",
    "* Hospitalized patients\n",
    "\n",
    "## Results of the model\n",
    "\n",
    "Time series from the model\n",
    "\n",
    "* Infected\n",
    "* Recovered\n",
    "\n",
    "## Fitting model to data\n",
    "\n",
    "In order to fit the model to the data we proceed in the following way\n",
    "\n",
    "1. \n",
    "2 asoiyhf"
   ]
  },
  {
   "cell_type": "code",
   "execution_count": null,
   "metadata": {},
   "outputs": [],
   "source": [
    "import numpy as np\n",
    "import pandas as pd"
   ]
  }
 ],
 "metadata": {
  "kernelspec": {
   "display_name": "Python 3",
   "language": "python",
   "name": "python3"
  },
  "language_info": {
   "codemirror_mode": {
    "name": "ipython",
    "version": 3
   },
   "file_extension": ".py",
   "mimetype": "text/x-python",
   "name": "python",
   "nbconvert_exporter": "python",
   "pygments_lexer": "ipython3",
   "version": "3.7.2"
  }
 },
 "nbformat": 4,
 "nbformat_minor": 2
}
