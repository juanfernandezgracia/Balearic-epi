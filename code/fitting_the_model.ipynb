{
 "cells": [
  {
   "cell_type": "markdown",
   "metadata": {},
   "source": [
    "## Procedure for fitting the model to IB data\n",
    "\n",
    "For this procedure we simulate the model for many combinations of the parameters and find the one that best matches the observed data. \n",
    "\n",
    "### Epidemiological data\n",
    "\n",
    "Time series available are\n",
    "\n",
    "* Deaths (official data)\n",
    "* Deaths (press data)\n",
    "* UCI patients\n",
    "* Recovered patients\n",
    "* Infected patients\n",
    "* Hospitalized patients\n",
    "\n",
    "### Results of the model\n",
    "\n",
    "Time series from the model\n",
    "\n",
    "* Infected\n",
    "* Recovered\n",
    "\n",
    "### Fitting model to data\n",
    "\n",
    "In order to fit the model to the data we proceed in the following way for each combination of parameters:\n",
    "\n",
    "1. Fix a proportion of recovered patients that actually die. ($\\mu_D$)\n",
    "2. Shift rescaled curve of recovered patients by tau from the model to best fit the curve of deaths from the data. The best fit is assessed by a $\\chi^2$ function.\n",
    "3. With that tau move also the curve of infected from the model and rescale it to best match the curve of UCI patients. Best value of this variable also given by Chi squared. ($\\mu_{UCI}$)\n",
    "4. Assign to this set of parameters the $\\chi^2$ that is the sum of the ones in 2. and 3. and save it together with the parameter values, the proportion of deaths and the obtained parameters tau and proportion of infected in UCI.\n",
    "\n",
    "From all the $\\chi^2$ values choose the one that is minimum."
   ]
  },
  {
   "cell_type": "code",
   "execution_count": null,
   "metadata": {
    "scrolled": true
   },
   "outputs": [
    {
     "name": "stdout",
     "output_type": "stream",
     "text": [
      "0.01 75\n",
      "0.01 74\n",
      "0.01 73\n",
      "0.01 72\n",
      "0.01 71\n",
      "0.01 70\n",
      "0.01 69\n",
      "0.01 68\n",
      "0.01 67\n",
      "0.01 66\n",
      "0.01 65\n",
      "0.01 64\n",
      "0.01 63\n",
      "0.01 62\n",
      "0.01 61\n",
      "0.01 60\n",
      "0.01 59\n",
      "0.01 58\n",
      "0.01 57\n",
      "0.01 56\n",
      "0.01 55\n",
      "0.01 54\n",
      "0.01 53\n",
      "0.01 52\n",
      "0.01 51\n",
      "0.01 50\n",
      "0.01 49\n",
      "0.01 48\n",
      "0.01 47\n",
      "0.01 46\n",
      "0.01 45\n",
      "0.01 44\n",
      "0.01 43\n",
      "0.01 42\n",
      "0.01 41\n",
      "0.01 40\n",
      "0.01 39\n",
      "0.01 38\n",
      "0.01 37\n",
      "0.01 36\n",
      "0.01 35\n",
      "0.01 34\n",
      "0.01 33\n",
      "0.01 32\n",
      "0.01 31\n",
      "0.01 30\n",
      "0.01 29\n",
      "0.01 28\n",
      "0.01 27\n",
      "0.01 26\n",
      "0.01 25\n",
      "0.01 24\n",
      "0.01 23\n",
      "0.01 22\n",
      "0.01 21\n",
      "0.01 20\n",
      "0.01 19\n",
      "0.01 18\n",
      "0.01 17\n",
      "0.01 16\n",
      "0.01 15\n",
      "0.01 14\n",
      "0.01 13\n",
      "0.01 12\n",
      "0.01 11\n",
      "0.01 10\n",
      "0.01 9\n",
      "0.01 8\n",
      "0.01 7\n"
     ]
    }
   ],
   "source": [
    "import fit_functions as ff\n",
    "#Parameters of the fitting procedure:\n",
    "chi2_type = 'log'\n",
    "minvalue = 10\n",
    "weight = 0.5\n",
    "percents = [0.01, 0.006, 0.034]\n",
    "Ndays = [40, 55]\n",
    "predict = False\n",
    "\n",
    "#Fitting:\n",
    "f, day_sh, mu_U = ff.complete_fit(chi2_type = chi2_type,\n",
    "                                  minvalue = minvalue,\n",
    "                                  weight = weight,\n",
    "                                  percents = percents,\n",
    "                                  Ndays = Ndays)"
   ]
  },
  {
   "cell_type": "code",
   "execution_count": null,
   "metadata": {},
   "outputs": [],
   "source": [
    "df_params = ff.params_to_df(percents, f, day_sh, mu_U)\n",
    "df_params"
   ]
  },
  {
   "cell_type": "code",
   "execution_count": null,
   "metadata": {},
   "outputs": [],
   "source": [
    "#Plotting:\n",
    "x_M, y_M, x2, y2, y2m, y2M = ff.plot_deaths(percents,\n",
    "                                            f,\n",
    "                                            day_sh,\n",
    "                                            mu_U,\n",
    "                                            chi2_type = chi2_type,\n",
    "                                            minvalue = minvalue,\n",
    "                                            predict = False)\n"
   ]
  },
  {
   "cell_type": "code",
   "execution_count": null,
   "metadata": {},
   "outputs": [],
   "source": [
    "x_M, y_M, x2, y2, y2m, y2M = ff.plot_UCI(percents,\n",
    "                                         f,\n",
    "                                         day_sh,\n",
    "                                         mu_U,\n",
    "                                         chi2_type = chi2_type,\n",
    "                                         minvalue = minvalue,\n",
    "                                         predict = False)"
   ]
  },
  {
   "cell_type": "code",
   "execution_count": null,
   "metadata": {},
   "outputs": [],
   "source": []
  }
 ],
 "metadata": {
  "kernelspec": {
   "display_name": "Python 3",
   "language": "python",
   "name": "python3"
  },
  "language_info": {
   "codemirror_mode": {
    "name": "ipython",
    "version": 3
   },
   "file_extension": ".py",
   "mimetype": "text/x-python",
   "name": "python",
   "nbconvert_exporter": "python",
   "pygments_lexer": "ipython3",
   "version": "3.7.2"
  }
 },
 "nbformat": 4,
 "nbformat_minor": 2
}
