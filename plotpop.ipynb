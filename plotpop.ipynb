{
 "cells": [
  {
   "cell_type": "code",
   "execution_count": null,
   "metadata": {},
   "outputs": [],
   "source": [
    "from mpl_toolkits.basemap import Basemap\n",
    "import numpy as np\n",
    "import matplotlib.pyplot as plt\n",
    "from random import randrange\n",
    "from matplotlib import cm\n",
    "import matplotlib.colors as colors\n",
    "import matplotlib.colorbar as chi\n",
    "import math\n",
    "import sys\n",
    "from matplotlib.patches import Polygon\n",
    "from matplotlib.collections import PatchCollection\n",
    "from matplotlib.patches import PathPatch\n",
    "import matplotlib.colors as colors\n",
    "import matplotlib.colorbar as chi\n",
    "import colorsys\n",
    "import pandas as pd\n",
    "import matplotlib"
   ]
  },
  {
   "cell_type": "code",
   "execution_count": null,
   "metadata": {},
   "outputs": [],
   "source": [
    "dfpop=pd.read_csv(\"pop.csv\",sep=\" \")\n",
    "dfpop.head()"
   ]
  },
  {
   "cell_type": "code",
   "execution_count": null,
   "metadata": {},
   "outputs": [],
   "source": [
    "print(list(dfpop['Municipio']))"
   ]
  },
  {
   "cell_type": "code",
   "execution_count": null,
   "metadata": {},
   "outputs": [],
   "source": [
    "nmax=np.amax(dfpop['Pop'])\n",
    "nmin=np.amin(dfpop['Pop'])\n",
    "cmap=plt.get_cmap('viridis_r')\n",
    "cnorm=colors.LogNorm(vmin=nmin,vmax=nmax)"
   ]
  },
  {
   "cell_type": "code",
   "execution_count": null,
   "metadata": {},
   "outputs": [],
   "source": []
  },
  {
   "cell_type": "code",
   "execution_count": null,
   "metadata": {},
   "outputs": [],
   "source": [
    "fig = plt.figure(figsize=(16,9),dpi=120)\n",
    "fig.set_facecolor('w')\n",
    "m = Basemap(resolution='i',projection='merc',llcrnrlat=38.5,urcrnrlat=40.3,llcrnrlon=1,urcrnrlon=+5)\n",
    "m.drawmapboundary(color='#444444',fill_color='#dddddd',zorder=100)\n",
    "m.readshapefile(\"./Municipios_IGN/Municipios_IGN\", \"NAMEUNIT\",drawbounds=False)\n",
    "ax=plt.gca()\n",
    "for info, shape in zip(m.NAMEUNIT_info, m.NAMEUNIT):\n",
    "    label=info['NAMEUNIT']\n",
    "    label=label.replace(\" \",\"\")\n",
    "    label=label.replace(\",\",\"\")\n",
    "    if label == 'Sóller':\n",
    "        label = 'Soller'\n",
    "    if label == 'Alcúdia':\n",
    "        label = 'Alcudia'\n",
    "    if label == 'Artà':\n",
    "        label = 'Arta'\n",
    "    if label == 'Calvià':\n",
    "        label = 'Calvia'\n",
    "    if label == 'Búger':\n",
    "        label = 'Buger'\n",
    "    if label == 'Maó-Mahón':\n",
    "        label = 'Mao'\n",
    "    if label == 'Marratxí':\n",
    "        label = 'Marratxi'\n",
    "    if label == 'Montuïri':\n",
    "        label = 'Montuiri'\n",
    "    if label == 'PalmadeMallorca':\n",
    "        label = 'Palma'\n",
    "    if label == 'SantLlorençdesCardassar':\n",
    "        label = 'SantLlorencdesCardassar'\n",
    "    if label == 'SantaEugènia':\n",
    "        label = 'SantaEugenia'\n",
    "    if label == 'SantaEulàriadesRiu':\n",
    "        label = 'SantaEulaliadelRio'\n",
    "    if label == 'SantaMaríadelCamí':\n",
    "        label = 'SantaMariadelCami'\n",
    "    if label == 'Santanyí':\n",
    "        label = 'Santanyi'\n",
    "    if label == 'Deià':\n",
    "        label = 'Deya'\n",
    "    if label == 'EsMercadal':\n",
    "        label = 'MercadalEs'\n",
    "    if label == 'sesSalines':\n",
    "        label = 'SalinesSes'\n",
    "    if label == 'EsMigjornGran':\n",
    "        label = 'MigjornGranEs'\n",
    "    if label == 'SaPobla':\n",
    "        label = 'PoblaSa'\n",
    "    if label == 'esCastell':\n",
    "        label = 'CastellEs'\n",
    "    samp=dfpop[dfpop['Municipio']==label]\n",
    "    patches=[]\n",
    "    if len(samp)!=1:\n",
    "        print(label,len(samp))\n",
    "    else:\n",
    "        pop=list(samp['Pop'])[0]\n",
    "        patches.append( Polygon(np.array(shape), True) )\n",
    "        col=cmap(cnorm(pop))\n",
    "        ax.add_collection(PatchCollection(patches, facecolor= col, edgecolor='#444444', linewidths=1., zorder=2))\n",
    "        \n",
    "cax = fig.add_axes([0.9, 0.15, 0.015, 0.7])\n",
    "sm = plt.cm.ScalarMappable(cmap=cmap, norm=cnorm)\n",
    "# fake up the array of the scalar mappable. Urgh...\n",
    "sm._A = []\n",
    "#cbar=plt.colorbar(sm) #need a colorbar to show the intensity scale\n",
    "#cbar.set_label(r'$\\rho$$_{\\rm ab}$',fontsize=4.0)\n",
    "cbar=fig.colorbar(sm, cax=cax)\n",
    "cbar.set_label('Population',color='#333333',fontsize=25)\n",
    "cax.tick_params(labelcolor='#333333')\n",
    "cax.tick_params(\n",
    "    axis='y',          # changes apply to the x-axis\n",
    "    which='both',      # both major and minor ticks are affected\n",
    "    left=False,      # ticks along the bottom edge are off\n",
    "    right=False,         # ticks along the top edge are off\n",
    "    labelright=True,\n",
    "    labelsize=22)\n",
    "fig.savefig('IBpop.png')"
   ]
  },
  {
   "cell_type": "code",
   "execution_count": null,
   "metadata": {},
   "outputs": [],
   "source": [
    "cols=['Day','Beta']+[i for i in range(len(dfpop))]\n",
    "#test=pd.read_csv('./Simulations/fort.8', sep=\"\\t\",names=cols)\n",
    "test=pd.read_csv('./Simulations/time_muni.csv', sep=';',names=cols)\n",
    "test.head()\n",
    "#print(len(test.columns))\n",
    "#test.head(50)"
   ]
  },
  {
   "cell_type": "code",
   "execution_count": null,
   "metadata": {},
   "outputs": [],
   "source": [
    "print(len(test.columns))"
   ]
  },
  {
   "cell_type": "code",
   "execution_count": null,
   "metadata": {},
   "outputs": [],
   "source": [
    "test.head()"
   ]
  },
  {
   "cell_type": "code",
   "execution_count": null,
   "metadata": {},
   "outputs": [],
   "source": [
    "pops=list(dfpop['Pop'])"
   ]
  },
  {
   "cell_type": "code",
   "execution_count": null,
   "metadata": {},
   "outputs": [],
   "source": [
    "days=list(test['Day'])\n",
    "dmax=np.amax(days)\n",
    "print(dmax)"
   ]
  },
  {
   "cell_type": "code",
   "execution_count": null,
   "metadata": {},
   "outputs": [],
   "source": [
    "nmax=300\n",
    "nmin=0\n",
    "cmap=plt.get_cmap('YlOrRd')\n",
    "cnorm=colors.Normalize(vmin=nmin,vmax=nmax)"
   ]
  },
  {
   "cell_type": "code",
   "execution_count": null,
   "metadata": {},
   "outputs": [],
   "source": [
    "#for day in range(1,dmax+1,1):\n",
    "for day in range(15,80,1):\n",
    "    samp=test[test['Day'] == day]\n",
    "    N=len(samp)\n",
    "    print(day,N)\n",
    "    vec=[]\n",
    "    for name,data in samp.iteritems():\n",
    "        kk=list(data.values)\n",
    "        vec.append(float(sum(kk))/N)\n",
    "    vec=vec[2:]\n",
    "    fig = plt.figure(figsize=(16,9),dpi=90)\n",
    "    fig.set_facecolor('w')\n",
    "    m = Basemap(resolution='i',projection='merc',llcrnrlat=38.5,urcrnrlat=40.3,llcrnrlon=1,urcrnrlon=+5)\n",
    "    m.drawmapboundary(color='#444444',fill_color='#dddddd',zorder=100)\n",
    "    m.readshapefile(\"./Municipios_IGN/Municipios_IGN\", \"NAMEUNIT\",drawbounds=False)\n",
    "    ax=plt.gca()\n",
    "    for info, shape in zip(m.NAMEUNIT_info, m.NAMEUNIT):\n",
    "        label=info['NAMEUNIT']\n",
    "        label=label.replace(\" \",\"\")\n",
    "        label=label.replace(\",\",\"\")\n",
    "        if label == 'Sóller':\n",
    "            label = 'Soller'\n",
    "        if label == 'Alcúdia':\n",
    "            label = 'Alcudia'\n",
    "        if label == 'Artà':\n",
    "            label = 'Arta'\n",
    "        if label == 'Calvià':\n",
    "            label = 'Calvia'\n",
    "        if label == 'Búger':\n",
    "            label = 'Buger'\n",
    "        if label == 'Maó-Mahón':\n",
    "            label = 'Mao'\n",
    "        if label == 'Marratxí':\n",
    "            label = 'Marratxi'\n",
    "        if label == 'Montuïri':\n",
    "            label = 'Montuiri'\n",
    "        if label == 'PalmadeMallorca':\n",
    "            label = 'Palma'\n",
    "        if label == 'SantLlorençdesCardassar':\n",
    "            label = 'SantLlorencdesCardassar'\n",
    "        if label == 'SantaEugènia':\n",
    "            label = 'SantaEugenia'\n",
    "        if label == 'SantaEulàriadesRiu':\n",
    "            label = 'SantaEulaliadelRio'\n",
    "        if label == 'SantaMaríadelCamí':\n",
    "            label = 'SantaMariadelCami'\n",
    "        if label == 'Santanyí':\n",
    "            label = 'Santanyi'\n",
    "        if label == 'Deià':\n",
    "            label = 'Deya'\n",
    "        if label == 'EsMercadal':\n",
    "            label = 'MercadalEs'\n",
    "        if label == 'sesSalines':\n",
    "            label = 'SalinesSes'\n",
    "        if label == 'EsMigjornGran':\n",
    "            label = 'MigjornGranEs'\n",
    "        if label == 'SaPobla':\n",
    "            label = 'PoblaSa'\n",
    "        if label == 'esCastell':\n",
    "            label = 'CastellEs'\n",
    "        samp=dfpop[dfpop['Municipio']==label]\n",
    "        ind=samp.index[0]\n",
    "        patches=[]\n",
    "        if len(samp)!=1:\n",
    "            print(label,len(samp))\n",
    "        else:\n",
    "            r=float(vec[ind])/pops[ind]\n",
    "            r=r*100000\n",
    "            patches.append( Polygon(np.array(shape), True) )\n",
    "            col=cmap(cnorm(r))\n",
    "            ax.add_collection(PatchCollection(patches, facecolor= col, edgecolor='#444444', linewidths=1., zorder=2))\n",
    "        \n",
    "    cax = fig.add_axes([0.9, 0.15, 0.015, 0.7])\n",
    "    sm = plt.cm.ScalarMappable(cmap=cmap, norm=cnorm)\n",
    "    # fake up the array of the scalar mappable. Urgh...\n",
    "    sm._A = []\n",
    "    #cbar=plt.colorbar(sm) #need a colorbar to show the intensity scale\n",
    "    #cbar.set_label(r'$\\rho$$_{\\rm ab}$',fontsize=4.0)\n",
    "    cbar=fig.colorbar(sm, cax=cax)\n",
    "    cbar.set_label('R per 100,000 inhabitants',color='#333333',fontsize=25)\n",
    "    cax.tick_params(labelcolor='#333333')\n",
    "    cax.tick_params(\n",
    "        axis='y',          # changes apply to the x-axis\n",
    "        which='both',      # both major and minor ticks are affected\n",
    "        left=False,      # ticks along the bottom edge are off\n",
    "        right=False,         # ticks along the top edge are off\n",
    "        labelright=True,\n",
    "        labelsize=22)\n",
    "    fig.suptitle(str(day), fontsize=25,color='#444444')\n",
    "    fig.savefig('./Simulations/figs/'+str(day)+'average.png',bbox_inches='tight',dpi=90)\n",
    "    plt.clf()\n"
   ]
  },
  {
   "cell_type": "code",
   "execution_count": null,
   "metadata": {},
   "outputs": [],
   "source": [
    "# label = 'CastellEs'\n",
    "# samp=dfpop[dfpop['Municipio']==label]\n",
    "# print(samp)\n",
    "# print(samp.index[0])"
   ]
  },
  {
   "cell_type": "code",
   "execution_count": null,
   "metadata": {},
   "outputs": [],
   "source": [
    "import imageio"
   ]
  },
  {
   "cell_type": "code",
   "execution_count": null,
   "metadata": {},
   "outputs": [],
   "source": [
    "gif_path = './Simulations/averageIB,incidence.gif'"
   ]
  },
  {
   "cell_type": "code",
   "execution_count": null,
   "metadata": {},
   "outputs": [],
   "source": [
    "images = []\n",
    "#filenames=['./Simulations/figs/'+str(i)+'average.png' for i in range(1,dmax,1)]\n",
    "filenames=['./Simulations/figs/'+str(i)+'average.png' for i in range(15,80,1)]\n",
    "for filename in filenames:\n",
    "    images.append(imageio.imread(filename))\n",
    "\n",
    "imageio.mimsave(gif_path, images,fps=10)"
   ]
  },
  {
   "cell_type": "code",
   "execution_count": null,
   "metadata": {},
   "outputs": [],
   "source": [
    "#from pygifsicle import optimize\n",
    "\n"
   ]
  },
  {
   "cell_type": "code",
   "execution_count": null,
   "metadata": {},
   "outputs": [],
   "source": [
    "#optimize(gif_path) # For overwriting the original one"
   ]
  },
  {
   "cell_type": "code",
   "execution_count": null,
   "metadata": {},
   "outputs": [],
   "source": []
  }
 ],
 "metadata": {
  "kernelspec": {
   "display_name": "Python 3",
   "language": "python",
   "name": "python3"
  },
  "language_info": {
   "codemirror_mode": {
    "name": "ipython",
    "version": 3
   },
   "file_extension": ".py",
   "mimetype": "text/x-python",
   "name": "python",
   "nbconvert_exporter": "python",
   "pygments_lexer": "ipython3",
   "version": "3.7.3"
  }
 },
 "nbformat": 4,
 "nbformat_minor": 2
}
